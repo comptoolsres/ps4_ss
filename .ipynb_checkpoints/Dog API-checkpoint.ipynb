{
 "cells": [
  {
   "cell_type": "code",
   "execution_count": 20,
   "id": "4e3a6f34-5ef7-4bc5-9fa4-4155c5c81b70",
   "metadata": {
    "tags": []
   },
   "outputs": [
    {
     "name": "stdout",
     "output_type": "stream",
     "text": [
      "Random Dog Fact: In Roman times, mastiffs donned light armor and were sent after mounted knights.\n"
     ]
    },
    {
     "data": {
      "image/png": "[encoded data removed]",
      "text/plain": [
       "<Figure size 576x360 with 1 Axes>"
      ]
     },
     "metadata": {
      "needs_background": "light"
     },
     "output_type": "display_data"
    }
   ],
   "source": [
    "# Import required libraries\n",
    "import requests\n",
    "import matplotlib.pyplot as plt\n",
    "\n",
    "# Define the API endpoint\n",
    "api_url = \"http://dog-api.kinduff.com/api/facts\"\n",
    "\n",
    "# Retrieve data from the Dog API\n",
    "response = requests.get(api_url)\n",
    "data = response.json()\n",
    "\n",
    "# Extract the dog fact from the response\n",
    "dog_fact = data[\"facts\"][0]\n",
    "fact_length = len(dog_fact)\n",
    "\n",
    "# Print the dog fact\n",
    "print(f\"Random Dog Fact: {dog_fact}\")\n",
    "\n",
    "# Plot the length of the fact using a bar chart\n",
    "plt.figure(figsize=(8, 5))\n",
    "plt.bar(['Dog Fact Length'], [fact_length], color='blue')\n",
    "plt.title('Length of the Random Dog Fact')\n",
    "plt.ylabel('Number of Characters')\n",
    "plt.show()\n",
    "\n"
   ]
  },
  {
   "cell_type": "code",
   "execution_count": 21,
   "id": "bec20a33-0ab7-4d0b-ab13-0872a396cc2c",
   "metadata": {
    "tags": []
   },
   "outputs": [
    {
     "name": "stdout",
     "output_type": "stream",
     "text": [
      "Dog Fact: One female dog and her female children could produce 4,372 puppies in seven years.\n",
      "Word Count: 14\n"
     ]
    }
   ],
   "source": [
    "import requests\n",
    "\n",
    "# Fetch random dog fact\n",
    "response = requests.get(\"http://dog-api.kinduff.com/api/facts\")\n",
    "fact = response.json()[\"facts\"][0]\n",
    "\n",
    "# Count number of words in the fact\n",
    "word_count = len(fact.split())\n",
    "print(f\"Dog Fact: {fact}\")\n",
    "print(f\"Word Count: {word_count}\")\n"
   ]
  },
  {
   "cell_type": "code",
   "execution_count": null,
   "id": "91bee4f0-2b0e-4079-b660-a31ff47a6a01",
   "metadata": {},
   "outputs": [],
   "source": []
  }
 ],
 "metadata": {
  "kernelspec": {
   "display_name": "UFRC Python-3.10",
   "language": "python",
   "name": "python3-3.10-ufrc"
  },
  "language_info": {
   "codemirror_mode": {
    "name": "ipython",
    "version": 3
   },
   "file_extension": ".py",
   "mimetype": "text/x-python",
   "name": "python",
   "nbconvert_exporter": "python",
   "pygments_lexer": "ipython3",
   "version": "3.10.8"
  }
 },
 "nbformat": 4,
 "nbformat_minor": 5
}
